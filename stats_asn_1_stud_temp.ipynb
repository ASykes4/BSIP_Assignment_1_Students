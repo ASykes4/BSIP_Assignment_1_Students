{
 "cells": [
  {
   "cell_type": "code",
   "execution_count": 20,
   "metadata": {},
   "outputs": [],
   "source": [
    "import thinkplot\n",
    "import thinkstats2\n",
    "import pandas as pd\n",
    "import numpy as np\n",
    "import scipy\n",
    "import seaborn as sns\n",
    "import math\n",
    "from matplotlib import pyplot as plt"
   ]
  },
  {
   "cell_type": "markdown",
   "metadata": {},
   "source": [
    "# Assignment #1 - Basic Data Exploration in Python\n",
    "\n",
    "## Assignment Overview\n",
    "\n",
    "In this assignment you'll load some data into a python notebook, and use some basic functions to do some basic analysis. Each section asks you to either calculate some answers or explore some information found in the data. When generating your answers, try to think about a few factors that can make your code better:\n",
    "<ul>\n",
    "<li> Present the answers clearly. Use the markdown cells, code comments, and formatting to help make your answers readable. One of the features of notebooks is that they allow us to combine code and commentary, and we need to ensure both are readable. Refer to the guide in the guides folder of the exercises workbook for an explaination and examples of different formatting. \n",
    "<li> Make your code clear. It is easy to make sense of small pieces of code, for short periods of time, so if your code makes little sense here, it won't really hurt your ability to find the answers. If you need to come back to it later, or others need to edit it, having code that doesn't make sense is a big issue. Use things like clearly named variables, comments, and spacing to make things readable. Even in this course, if you are looking back to something from 2 months ago for the project, it is far easier to understand code that is cleaned up a little. \n",
    "<li> Structure the code well. If there is some kind of repetitive task, it should likely be moved into a function. If there is something that happens several times, it should be in a loop. Having well structured code makes it easy to reuse stuff later, understand how things work, debug errors, and share code with others. This is something to keep in the back of your minds, right now you may not have much experience to lean on to judge how things should be, as you read, adjust, and write code it will become more clear. \n",
    "</ul>\n",
    "\n",
    "## Peer Evaluation\n",
    "\n",
    "This assignemnt will have a peer evaluation for the grade - you'll each read some other notebooks and evaluate their answers. The reason for this is not (entirely) my personal laziness, we are hoping to accomplish a couple of things:\n",
    "<ul>\n",
    "<li> Quick experience reading notebooks. One of the important skills we need to have is the ability to read examples that we find and adapting it to our scenario. This is practice with data you're now comfortable with.\n",
    "<li> Critically evaluating what makes sense in a data notebook. You know how you attempted to explain your look at the data, how did other people do it? What was better? What was worse?\n",
    "<li> Design is subjective. This will give you a set of opinions that are not mine. You will end up with plenty of feedback of what I think, feadback of others early-on should hopefully help you make things appealing to all and not tailored to me. \n",
    "</ul>\n",
    "Doing this right up front will hopefully help kickstart some of that expericence. \n",
    "\n",
    "### Grading\n",
    "\n",
    "The detailed grading is defined in the marking guide in the Moodle workshop. Note that there's points both for getting a correct answer and for presenting it in a way that makes sense. \n",
    "\n",
    "## Structure\n",
    "\n",
    "Each section contains a set of questions/prompts and a rough framework for your responses. You can change the structure around, just make sure it is readable. What I have there is just a loose guide to help get you started, you're not bound to it. "
   ]
  },
  {
   "cell_type": "markdown",
   "metadata": {},
   "source": [
    "## Load Data\n",
    "\n",
    "Load the labor data into a dataframe. You probably don't want to change this section. "
   ]
  },
  {
   "cell_type": "code",
   "execution_count": 29,
   "metadata": {},
   "outputs": [
    {
     "data": {
      "text/plain": [
       "Age  Eduacation  Race      Hisp         MaritalStatus  Nodeg  Earnings_1974  Earnings_1975  Earnings_1978\n",
       "33   HighSchool  NotBlack  NotHispanic  Married        0      25862.32       25243.55       25564.67         35\n",
       "32   HighSchool  NotBlack  NotHispanic  Married        0      25862.32       25243.55       25564.67         31\n",
       "34   HighSchool  NotBlack  NotHispanic  Married        0      25862.32       25243.55       25564.67         28\n",
       "43   HighSchool  NotBlack  NotHispanic  Married        0      25862.32       25243.55       25564.67         27\n",
       "38   HighSchool  NotBlack  NotHispanic  Married        0      25862.32       25243.55       25564.67         26\n",
       "                                                                                                             ..\n",
       "26   HighSchool  NotBlack  NotHispanic  Married        0      17615.77       22946.56       23614.07          1\n",
       "                                                              17705.89       20923.50       22196.93          1\n",
       "                                                              17770.55       17666.90       18577.98          1\n",
       "                                                              17986.07       25155.82       25564.67          1\n",
       "55   graduate    NotBlack  NotHispanic  NotMarried     0      21060.16       25243.55       23922.92          1\n",
       "Length: 13990, dtype: int64"
      ]
     },
     "execution_count": 29,
     "metadata": {},
     "output_type": "execute_result"
    }
   ],
   "source": [
    "#Load/preview data\n",
    "df = pd.read_csv(\"LabourTrainingEvaluationData.csv\")\n",
    "df.value_counts()"
   ]
  },
  {
   "cell_type": "code",
   "execution_count": 6,
   "metadata": {},
   "outputs": [
    {
     "data": {
      "text/html": [
       "<div>\n",
       "<style scoped>\n",
       "    .dataframe tbody tr th:only-of-type {\n",
       "        vertical-align: middle;\n",
       "    }\n",
       "\n",
       "    .dataframe tbody tr th {\n",
       "        vertical-align: top;\n",
       "    }\n",
       "\n",
       "    .dataframe thead th {\n",
       "        text-align: right;\n",
       "    }\n",
       "</style>\n",
       "<table border=\"1\" class=\"dataframe\">\n",
       "  <thead>\n",
       "    <tr style=\"text-align: right;\">\n",
       "      <th></th>\n",
       "      <th>Age</th>\n",
       "      <th>Nodeg</th>\n",
       "      <th>Earnings_1974</th>\n",
       "      <th>Earnings_1975</th>\n",
       "      <th>Earnings_1978</th>\n",
       "    </tr>\n",
       "  </thead>\n",
       "  <tbody>\n",
       "    <tr>\n",
       "      <th>count</th>\n",
       "      <td>15992.000000</td>\n",
       "      <td>15992.000000</td>\n",
       "      <td>15992.000000</td>\n",
       "      <td>15992.000000</td>\n",
       "      <td>15992.000000</td>\n",
       "    </tr>\n",
       "    <tr>\n",
       "      <th>mean</th>\n",
       "      <td>33.225238</td>\n",
       "      <td>0.295835</td>\n",
       "      <td>14016.800304</td>\n",
       "      <td>13650.803376</td>\n",
       "      <td>14846.659673</td>\n",
       "    </tr>\n",
       "    <tr>\n",
       "      <th>std</th>\n",
       "      <td>11.045216</td>\n",
       "      <td>0.456432</td>\n",
       "      <td>9569.795893</td>\n",
       "      <td>9270.403225</td>\n",
       "      <td>9647.391524</td>\n",
       "    </tr>\n",
       "    <tr>\n",
       "      <th>min</th>\n",
       "      <td>16.000000</td>\n",
       "      <td>0.000000</td>\n",
       "      <td>0.000000</td>\n",
       "      <td>0.000000</td>\n",
       "      <td>0.000000</td>\n",
       "    </tr>\n",
       "    <tr>\n",
       "      <th>25%</th>\n",
       "      <td>24.000000</td>\n",
       "      <td>0.000000</td>\n",
       "      <td>4403.452250</td>\n",
       "      <td>4398.823000</td>\n",
       "      <td>5669.298000</td>\n",
       "    </tr>\n",
       "    <tr>\n",
       "      <th>50%</th>\n",
       "      <td>31.000000</td>\n",
       "      <td>0.000000</td>\n",
       "      <td>15123.580000</td>\n",
       "      <td>14557.110000</td>\n",
       "      <td>16421.975000</td>\n",
       "    </tr>\n",
       "    <tr>\n",
       "      <th>75%</th>\n",
       "      <td>42.000000</td>\n",
       "      <td>1.000000</td>\n",
       "      <td>23584.180000</td>\n",
       "      <td>22923.737500</td>\n",
       "      <td>25564.670000</td>\n",
       "    </tr>\n",
       "    <tr>\n",
       "      <th>max</th>\n",
       "      <td>55.000000</td>\n",
       "      <td>1.000000</td>\n",
       "      <td>25862.320000</td>\n",
       "      <td>25243.550000</td>\n",
       "      <td>25564.670000</td>\n",
       "    </tr>\n",
       "  </tbody>\n",
       "</table>\n",
       "</div>"
      ],
      "text/plain": [
       "                Age         Nodeg  Earnings_1974  Earnings_1975  Earnings_1978\n",
       "count  15992.000000  15992.000000   15992.000000   15992.000000   15992.000000\n",
       "mean      33.225238      0.295835   14016.800304   13650.803376   14846.659673\n",
       "std       11.045216      0.456432    9569.795893    9270.403225    9647.391524\n",
       "min       16.000000      0.000000       0.000000       0.000000       0.000000\n",
       "25%       24.000000      0.000000    4403.452250    4398.823000    5669.298000\n",
       "50%       31.000000      0.000000   15123.580000   14557.110000   16421.975000\n",
       "75%       42.000000      1.000000   23584.180000   22923.737500   25564.670000\n",
       "max       55.000000      1.000000   25862.320000   25243.550000   25564.670000"
      ]
     },
     "execution_count": 6,
     "metadata": {},
     "output_type": "execute_result"
    }
   ],
   "source": [
    "df.describe()"
   ]
  },
  {
   "cell_type": "markdown",
   "metadata": {},
   "source": [
    "## Part 1 - Age\n",
    "\n",
    "<ol>\n",
    "<li> Make and plot a Hist and Pmf for age.\n",
    "<li> What fraction of the people in the data are 51? What fraction are older than 51?\n",
    "<li> What is the median age? \n",
    "<li> Does the distribution of the sample data seem to mirror the working age population?\n",
    "</ol>"
   ]
  },
  {
   "cell_type": "markdown",
   "metadata": {},
   "source": [
    "#### Make and plot a Hist and Pmf for age."
   ]
  },
  {
   "cell_type": "code",
   "execution_count": 7,
   "metadata": {},
   "outputs": [],
   "source": [
    "age = df[\"Age\"]\n",
    "ageHist = thinkstats2.Hist(age, label = \"Labour Training Age\")\n",
    "agePMF= thinkstats2.Pmf(age, label = \"Labour Training Age\")"
   ]
  },
  {
   "cell_type": "code",
   "execution_count": 8,
   "metadata": {},
   "outputs": [
    {
     "data": {
      "image/png": "[encoded data removed]",
      "text/plain": [
       "<Figure size 432x288 with 1 Axes>"
      ]
     },
     "metadata": {
      "needs_background": "light"
     },
     "output_type": "display_data"
    }
   ],
   "source": [
    "thinkplot.Hist(ageHist)\n",
    "thinkplot.Config(xlabel='Age', ylabel='# of People')\n",
    "thinkplot.bigger_text()"
   ]
  },
  {
   "cell_type": "code",
   "execution_count": 9,
   "metadata": {},
   "outputs": [
    {
     "data": {
      "image/png": "[encoded data removed]",
      "text/plain": [
       "<Figure size 432x288 with 1 Axes>"
      ]
     },
     "metadata": {
      "needs_background": "light"
     },
     "output_type": "display_data"
    },
    {
     "data": {
      "image/png": "[encoded data removed]",
      "text/plain": [
       "<Figure size 576x432 with 1 Axes>"
      ]
     },
     "metadata": {
      "needs_background": "light"
     },
     "output_type": "display_data"
    }
   ],
   "source": [
    "thinkplot.Pmfs([agePMF])\n",
    "thinkplot.Show(xlabel=\"Age\", ylabel = \"Percent of People\")\n",
    "thinkplot.bigger_text()"
   ]
  },
  {
   "cell_type": "markdown",
   "metadata": {},
   "source": [
    "#### What fraction of the people in the data are 51? What fraction are older than 51?"
   ]
  },
  {
   "cell_type": "code",
   "execution_count": 10,
   "metadata": {},
   "outputs": [
    {
     "name": "stdout",
     "output_type": "stream",
     "text": [
      "Fraction of the People who are exactly 51: 314/15992, or 0.0196.\n",
      "Fraction of the People who are over 51: 1171/15992, or 0.0732.\n"
     ]
    }
   ],
   "source": [
    "ofAge = age[age == 51]\n",
    "overAge = age[age > 51]\n",
    "fiftyOne = round((ofAge.size/age.size),4)\n",
    "overFiftyOne = round((overAge.size/age.size),4)\n",
    "\n",
    "print(\"Fraction of the People who are exactly 51: \" + str(ofAge.size) + \"/\" + str(age.size) + \", or \" + str(fiftyOne) + \".\")\n",
    "print(\"Fraction of the People who are over 51: \" + str(overAge.size) + \"/\" + str(age.size) + \", or \" + str(overFiftyOne) + \".\")"
   ]
  },
  {
   "cell_type": "markdown",
   "metadata": {},
   "source": [
    "##### What is the median age?"
   ]
  },
  {
   "cell_type": "code",
   "execution_count": 11,
   "metadata": {},
   "outputs": [
    {
     "name": "stdout",
     "output_type": "stream",
     "text": [
      "The median age for this data set is: 31.0\n"
     ]
    }
   ],
   "source": [
    "medianAge = age.median()\n",
    "\n",
    "print(\"The median age for this data set is:\", medianAge)"
   ]
  },
  {
   "cell_type": "markdown",
   "metadata": {},
   "source": [
    "##### Does the distribution of the sample data seem to mirror the working age population?"
   ]
  },
  {
   "cell_type": "markdown",
   "metadata": {},
   "source": [
    "Mostly it does, seeing the minimum age of 16 and the average age of 31. But, the maximum age of 55 falls a bit short of the accepted retirement age of 65, meaning there is probably 10 years of data that we are missing."
   ]
  },
  {
   "cell_type": "markdown",
   "metadata": {},
   "source": [
    "### Part 2 - Demographics\n",
    "\n",
    "<ul>\n",
    "<li>Consider some of the demographic features: \n",
    "    <ul>\n",
    "    <li>Education\n",
    "    <li>Race\n",
    "    <li>Hisp\n",
    "    <li>MaritalStatus\n",
    "    <li>Nodeg. \n",
    "    </ul>\n",
    "</ul>\n",
    "<ol>\n",
    "<li>This data came from the United States, does it appear to be a representative sample of the US population?\n",
    "<li>Demonstrate this in some way in your code. \n",
    "</ol>\n",
    "\n",
    "##### Exploring the data..."
   ]
  },
  {
   "cell_type": "markdown",
   "metadata": {},
   "source": [
    "##### Education"
   ]
  },
  {
   "cell_type": "code",
   "execution_count": 12,
   "metadata": {},
   "outputs": [
    {
     "name": "stdout",
     "output_type": "stream",
     "text": [
      "HighSchool            6252\n",
      "LessThanHighSchool    4731\n",
      "Intermediate          2708\n",
      "graduate              1367\n",
      "PostGraduate           934\n",
      "Name: Eduacation, dtype: int64 \n",
      "\n",
      "count          15992\n",
      "unique             5\n",
      "top       HighSchool\n",
      "freq            6252\n",
      "Name: Eduacation, dtype: object\n"
     ]
    }
   ],
   "source": [
    "edu = df[\"Eduacation\"]\n",
    "print(edu.value_counts(),\"\\n\")\n",
    "print(edu.describe())"
   ]
  },
  {
   "cell_type": "markdown",
   "metadata": {},
   "source": [
    "##### Race"
   ]
  },
  {
   "cell_type": "code",
   "execution_count": 35,
   "metadata": {},
   "outputs": [
    {
     "name": "stdout",
     "output_type": "stream",
     "text": [
      "NotBlack    14816\n",
      "black        1176\n",
      "Name: Race, dtype: int64 \n",
      "\n",
      "count        15992\n",
      "unique           2\n",
      "top       NotBlack\n",
      "freq         14816\n",
      "Name: Race, dtype: object\n",
      "% Pop Black: 7.35367683841921\n"
     ]
    }
   ],
   "source": [
    "race = df[\"Race\"]\n",
    "print(race.value_counts(),\"\\n\")\n",
    "print(race.describe())\n",
    "print(\"% Pop Black:\", race.value_counts()[1]/race.count()*100)"
   ]
  },
  {
   "cell_type": "markdown",
   "metadata": {},
   "source": [
    "##### Hispanic Heritage"
   ]
  },
  {
   "cell_type": "code",
   "execution_count": 36,
   "metadata": {},
   "outputs": [
    {
     "name": "stdout",
     "output_type": "stream",
     "text": [
      "NotHispanic    14840\n",
      "hispanic        1152\n",
      "Name: Hisp, dtype: int64 \n",
      "\n",
      "count           15992\n",
      "unique              2\n",
      "top       NotHispanic\n",
      "freq            14840\n",
      "Name: Hisp, dtype: object\n",
      "% Pop Hispanic: 7.20360180090045\n"
     ]
    }
   ],
   "source": [
    "hisp = df[\"Hisp\"]\n",
    "print(hisp.value_counts(),\"\\n\")\n",
    "print(hisp.describe())\n",
    "print(\"% Pop Hispanic:\", hisp.value_counts()[1]/hisp.count()*100)"
   ]
  },
  {
   "cell_type": "markdown",
   "metadata": {},
   "source": [
    "##### Marital Status"
   ]
  },
  {
   "cell_type": "code",
   "execution_count": 37,
   "metadata": {},
   "outputs": [
    {
     "name": "stdout",
     "output_type": "stream",
     "text": [
      "Married       11382\n",
      "NotMarried     4610\n",
      "Name: MaritalStatus, dtype: int64 \n",
      "\n",
      "count       15992\n",
      "unique          2\n",
      "top       Married\n",
      "freq        11382\n",
      "Name: MaritalStatus, dtype: object\n",
      "% Pop Married: 71.17308654327164\n"
     ]
    }
   ],
   "source": [
    "married = df[\"MaritalStatus\"]\n",
    "print(married.value_counts(),\"\\n\")\n",
    "print(married.describe())\n",
    "print(\"% Pop Married:\", married.value_counts()[0]/married.count()*100)"
   ]
  },
  {
   "cell_type": "markdown",
   "metadata": {},
   "source": [
    "##### Nodeg"
   ]
  },
  {
   "cell_type": "code",
   "execution_count": 38,
   "metadata": {},
   "outputs": [
    {
     "name": "stdout",
     "output_type": "stream",
     "text": [
      "0    11261\n",
      "1     4731\n",
      "Name: Nodeg, dtype: int64 \n",
      "\n",
      "count    15992.000000\n",
      "mean         0.295835\n",
      "std          0.456432\n",
      "min          0.000000\n",
      "25%          0.000000\n",
      "50%          0.000000\n",
      "75%          1.000000\n",
      "max          1.000000\n",
      "Name: Nodeg, dtype: float64\n",
      "% Pop With No Degree: 29.58354177088544\n"
     ]
    }
   ],
   "source": [
    "nodegree = df[\"Nodeg\"]\n",
    "print(nodegree.value_counts(),\"\\n\")\n",
    "print(nodegree.describe())\n",
    "print(\"% Pop With No Degree:\", nodegree.value_counts()[1]/nodegree.count()*100)"
   ]
  },
  {
   "cell_type": "markdown",
   "metadata": {},
   "source": [
    "##### Demographic Conclusion\n"
   ]
  },
  {
   "cell_type": "markdown",
   "metadata": {},
   "source": [
    "The percentages of the population that Black and Hispanic poeple make up, as well as the percentages of people with no degrees and who are married do seem to be close approximations of the the whole US population (at least according to Wikipedia)."
   ]
  },
  {
   "cell_type": "markdown",
   "metadata": {},
   "source": [
    "### Part 3 - Earnings\n",
    "\n",
    "<ol>\n",
    "<li>Make and plot a graph or graph of your choosing of the 3 earnings values, in order to answer the below question. Identify how the graph gave you your answer.\n",
    "    <ul>\n",
    "    <li>What is one conclusion could you draw from visualizing of the earnings in the different year? Please express it in plain language/non-statistics terms/as though you were explaining to one of your friends what happened to earnings between 1974 and 1978?\n",
    "    </ul>\n",
    "<li>Which has the greatest effect size on 1978 earnings: Race, Hispanic, MaritalStatus, or Nodeg? \n",
    "    <ul>\n",
    "    <li>What could you investigate further in an attempt to explain this?\n",
    "    </ul>\n",
    "<li>Plot a histogram and PMF, and compute useful descriptive statistics (think: average...) for the 1978 earnings value. Use the \"Cohorts\" code from the quiz to break the data into cohorts, plotting each group (either on one chart, or separately, whichever makes the most sense for examining the data - state specifically why you chose 1 vs many charts.\n",
    "    <ul>\n",
    "    <li>What is the difference in median income between the groups?\n",
    "    <li>Theorize a reason for the difference between the groups that could be explained with more data. Briefly describe the data you'd need. This does not need to be something you have data for, or know how to solve right now - just one well founded hypothesis on what might explain the difference.\n",
    "    </ul>\n",
    "<li>Are there outliers in the 1978 earnings data? Demonstrate this in some way with your code. \n",
    "    <ul>\n",
    "    <li>What can you infer from the presence of outliers that may impact analysis of this data.\n",
    "    </ul>\n",
    "</ol>"
   ]
  },
  {
   "cell_type": "markdown",
   "metadata": {},
   "source": [
    "### Part 3.1"
   ]
  },
  {
   "cell_type": "markdown",
   "metadata": {},
   "source": [
    "##### Plot Earnings Data"
   ]
  },
  {
   "cell_type": "code",
   "execution_count": 17,
   "metadata": {},
   "outputs": [
    {
     "data": {
      "image/png": "[encoded data removed]",
      "text/plain": [
       "<Figure size 432x288 with 1 Axes>"
      ]
     },
     "metadata": {
      "needs_background": "light"
     },
     "output_type": "display_data"
    }
   ],
   "source": [
    "\n",
    "earn1974 = df[\"Earnings_1974\"]\n",
    "earn1974 = earn1974[~np.isnan(earn1974)]\n",
    "earn1974 = round(earn1974,-3)\n",
    "pmf1974 = thinkstats2.Pmf(earn1974, label = \"1974 Earnings\")\n",
    "thinkplot.Pmf(pmf1974)\n",
    "\n",
    "earn1975 = df[\"Earnings_1975\"]\n",
    "earn1975 = earn1975[~np.isnan(earn1975)]\n",
    "earn1975 = round(earn1975,-3)\n",
    "pmf1975 = thinkstats2.Pmf(earn1975, label = \"1975 Earnings\")\n",
    "thinkplot.Pmf(pmf1975)\n",
    "\n",
    "earn1978 = df[\"Earnings_1978\"]\n",
    "earn1978 = earn1978[~np.isnan(earn1978)]\n",
    "earn1978 = round(earn1978,-3)\n",
    "pmf1978 = thinkstats2.Pmf(earn1978, label = \"1978 Earnings\")\n",
    "thinkplot.Pmf(pmf1978)\n",
    "\n",
    "thinkplot.Config(xlabel = \"Earnings, rounded to nearest thousand\", ylabel = \"# of Earners\")\n",
    "thinkplot.bigger_text()"
   ]
  },
  {
   "cell_type": "markdown",
   "metadata": {},
   "source": [
    "As a conclusion, there seems to be a large jump in the number of people earning near the top end, around $25k. Otherwise the distributions are pretty similar. "
   ]
  },
  {
   "cell_type": "markdown",
   "metadata": {},
   "source": [
    "##### Conclusion Drawn\n",
    "\n",
    "The number of earners in the middle seems to have decreased when we go from 1975 to 1978, while the earners at the ends of the graph has increased in the same time. Meaning more people are poorer than the middle values, and more people are richer than the middle values. The middle earnings got squeezed out to the sides."
   ]
  },
  {
   "cell_type": "markdown",
   "metadata": {},
   "source": [
    "### Part 3.2"
   ]
  },
  {
   "cell_type": "markdown",
   "metadata": {},
   "source": [
    "##### What to Investigate Further\n"
   ]
  },
  {
   "cell_type": "code",
   "execution_count": 18,
   "metadata": {},
   "outputs": [],
   "source": [
    "def CohenEffectSize(group1, group2):\n",
    "    diff = group1.mean() - group2.mean()\n",
    "\n",
    "    var1 = group1.var()\n",
    "    var2 = group2.var()\n",
    "    n1, n2 = len(group1), len(group2)\n",
    "\n",
    "    pooled_var = (n1 * var1 + n2 * var2) / (n1 + n2)\n",
    "    d = diff / math.sqrt(pooled_var)\n",
    "    return d"
   ]
  },
  {
   "cell_type": "markdown",
   "metadata": {},
   "source": [
    "##### Black"
   ]
  },
  {
   "cell_type": "code",
   "execution_count": 24,
   "metadata": {},
   "outputs": [
    {
     "name": "stdout",
     "output_type": "stream",
     "text": [
      "0.3209490408620296\n"
     ]
    }
   ],
   "source": [
    "blackEarn = df[[\"Race\",\"Earnings_1978\"]]\n",
    "blackEarn = blackEarn[blackEarn.Race == \"black\"]\n",
    "blackEarn = blackEarn[\"Earnings_1978\"]\n",
    "blackEarn = round(blackEarn,-3)\n",
    "nonBlackEarn = df[[\"Race\",\"Earnings_1978\"]]\n",
    "nonBlackEarn = nonBlackEarn[nonBlackEarn.Race == \"NotBlack\"]\n",
    "nonBlackEarn = nonBlackEarn[\"Earnings_1978\"]\n",
    "nonBlackEarn = round(nonBlackEarn,-3)\n",
    "\n",
    "print(abs(CohenEffectSize(blackEarn,nonBlackEarn)))"
   ]
  },
  {
   "cell_type": "markdown",
   "metadata": {},
   "source": [
    "##### Hispanic"
   ]
  },
  {
   "cell_type": "code",
   "execution_count": 23,
   "metadata": {},
   "outputs": [
    {
     "name": "stdout",
     "output_type": "stream",
     "text": [
      "0.16269710757295444\n"
     ]
    }
   ],
   "source": [
    "hispEarn = df[[\"Hisp\",\"Earnings_1978\"]]\n",
    "hispEarn = hispEarn[hispEarn.Hisp == \"hispanic\"]\n",
    "hispEarn = hispEarn[\"Earnings_1978\"]\n",
    "hispEarn = round(hispEarn,-3)\n",
    "nonHispEarn = df[[\"Hisp\",\"Earnings_1978\"]]\n",
    "nonHispEarn = nonHispEarn[nonHispEarn.Hisp == \"NotHispanic\"]\n",
    "nonHispEarn = nonHispEarn[\"Earnings_1978\"]\n",
    "nonHispEarn = round(nonHispEarn,-3)\n",
    "\n",
    "print(abs(CohenEffectSize(hispEarn,nonHispEarn)))\n",
    "\n"
   ]
  },
  {
   "cell_type": "markdown",
   "metadata": {},
   "source": [
    "##### Marital Status"
   ]
  },
  {
   "cell_type": "code",
   "execution_count": 25,
   "metadata": {},
   "outputs": [
    {
     "name": "stdout",
     "output_type": "stream",
     "text": [
      "0.5758092514776242\n"
     ]
    }
   ],
   "source": [
    "marryEarn = df[[\"MaritalStatus\",\"Earnings_1978\"]]\n",
    "marryEarn = marryEarn[marryEarn.MaritalStatus == \"Married\"]\n",
    "marryEarn = marryEarn[\"Earnings_1978\"]\n",
    "marryEarn = round(marryEarn,-3)\n",
    "nonMarryEarn = df[[\"MaritalStatus\",\"Earnings_1978\"]]\n",
    "nonMarryEarn = nonMarryEarn[nonMarryEarn.MaritalStatus == \"NotMarried\"]\n",
    "nonMarryEarn = nonMarryEarn[\"Earnings_1978\"]\n",
    "nonMarryEarn = round(nonMarryEarn,-3)\n",
    "\n",
    "print(abs(CohenEffectSize(marryEarn,nonMarryEarn)))\n",
    "\n",
    "#histMarry = thinkstats2.Hist(marryEarn, label = \"Married Earnings\")\n",
    "#histNonMarry = thinkstats2.Hist(nonMarryEarn, label = \"Non Married Earnings\")\n",
    "#thinkplot.PrePlot(cols=2)\n",
    "#thinkplot.Hist(histMarry)\n",
    "#thinkplot.Hist(histNonMarry)\n",
    "#thinkplot.Config(xlabel = \"Earnings, rounded to nearest thousand\", ylabel = \"# of Earners\")\n",
    "#thinkplot.bigger_text()"
   ]
  },
  {
   "cell_type": "markdown",
   "metadata": {},
   "source": [
    "##### No Degree"
   ]
  },
  {
   "cell_type": "code",
   "execution_count": 26,
   "metadata": {},
   "outputs": [
    {
     "name": "stdout",
     "output_type": "stream",
     "text": [
      "0.33950112617681033\n"
     ]
    }
   ],
   "source": [
    "noDegreeEarn = df[[\"Nodeg\",\"Earnings_1978\"]]\n",
    "noDegreeEarn = noDegreeEarn[noDegreeEarn.Nodeg == 1]\n",
    "noDegreeEarn = noDegreeEarn[\"Earnings_1978\"]\n",
    "noDegreeEarn = round(noDegreeEarn,-3)\n",
    "degreeEarn = df[[\"Nodeg\",\"Earnings_1978\"]]\n",
    "degreeEarn = degreeEarn[degreeEarn.Nodeg == 0]\n",
    "degreeEarn = degreeEarn[\"Earnings_1978\"]\n",
    "degreeEarn = round(degreeEarn,-3)\n",
    "\n",
    "print(abs(CohenEffectSize(noDegreeEarn,degreeEarn)))\n",
    "\n",
    "#histNoDeg = thinkstats2.Hist(noDegreeEarn, label = \"Non Degree Earnings\")\n",
    "#histDegree = thinkstats2.Hist(degreeEarn, label = \"Degree Earnings\")\n",
    "#thinkplot.PrePlot(cols=2)\n",
    "#thinkplot.Hist(histNoDeg)\n",
    "#thinkplot.Hist(histDegree)\n",
    "#thinkplot.Config(xlabel = \"Earnings, rounded to nearest thousand\", ylabel = \"# of Earners\")\n",
    "#thinkplot.bigger_text()"
   ]
  },
  {
   "cell_type": "markdown",
   "metadata": {},
   "source": [
    "Your marital status seems to have the greatest effect on your earnings. To investigate further, you could look at the tax laws around this time, to see if they incentivise marriage. "
   ]
  },
  {
   "cell_type": "markdown",
   "metadata": {},
   "source": [
    "#### Part 3.3"
   ]
  },
  {
   "cell_type": "markdown",
   "metadata": {},
   "source": [
    "##### Histogram and PMF"
   ]
  },
  {
   "cell_type": "code",
   "execution_count": 4,
   "metadata": {},
   "outputs": [],
   "source": [
    "#Create a hist, pmf, and stats for 1987 Earnings\n",
    "#Note: if you don't round or otherwise create bins, the thinkstats plots for this will be weird\n",
    "#That's because there are very few values that are the same, e.g. $14762.34, $15672.86, etc... \n",
    "#Every cent is a different value. \n",
    "#Seaborn plots will probably look better by default. "
   ]
  },
  {
   "cell_type": "markdown",
   "metadata": {},
   "source": [
    "##### Histogram"
   ]
  },
  {
   "cell_type": "code",
   "execution_count": 150,
   "metadata": {},
   "outputs": [
    {
     "data": {
      "image/png": "[encoded data removed]",
      "text/plain": [
       "<Figure size 432x288 with 1 Axes>"
      ]
     },
     "metadata": {
      "needs_background": "light"
     },
     "output_type": "display_data"
    }
   ],
   "source": [
    "earn1978 = df[\"Earnings_1978\"]\n",
    "earn1978 = earn1978[~np.isnan(earn1978)]\n",
    "earn1978 = round(earn1978,-3)\n",
    "hist1978 = thinkstats2.Hist(earn1978, label = \"1978 Earnings\")\n",
    "thinkplot.Hist(hist1978)\n",
    "thinkplot.Config(xlabel = \"Earnings, rounded to nearest thousand\", ylabel = \"# of Earners\")\n",
    "thinkplot.bigger_text()"
   ]
  },
  {
   "cell_type": "markdown",
   "metadata": {},
   "source": [
    "##### PMF"
   ]
  },
  {
   "cell_type": "code",
   "execution_count": 152,
   "metadata": {},
   "outputs": [
    {
     "data": {
      "image/png": "[encoded data removed]",
      "text/plain": [
       "<Figure size 432x288 with 1 Axes>"
      ]
     },
     "metadata": {
      "needs_background": "light"
     },
     "output_type": "display_data"
    }
   ],
   "source": [
    "earn1978 = df[\"Earnings_1978\"]\n",
    "earn1978 = earn1978[~np.isnan(earn1978)]\n",
    "earn1978 = round(earn1978,-3)\n",
    "pmf1978 = thinkstats2.Pmf(earn1978, label = \"1978 Earnings\")\n",
    "thinkplot.Pmf(pmf1978)\n",
    "thinkplot.Config(xlabel = \"Earnings, rounded to nearest thousand\", ylabel = \"% of Earners\")\n",
    "thinkplot.bigger_text()"
   ]
  },
  {
   "cell_type": "markdown",
   "metadata": {},
   "source": [
    "##### Statistics"
   ]
  },
  {
   "cell_type": "code",
   "execution_count": 156,
   "metadata": {},
   "outputs": [
    {
     "name": "stdout",
     "output_type": "stream",
     "text": [
      "The Mean is: 14957.478739369684\n",
      "The Median is: 16000.0\n",
      "count    15992.000000\n",
      "mean     14957.478739\n",
      "std       9777.005530\n",
      "min          0.000000\n",
      "25%       6000.000000\n",
      "50%      16000.000000\n",
      "75%      26000.000000\n",
      "max      26000.000000\n",
      "Name: Earnings_1978, dtype: float64\n"
     ]
    }
   ],
   "source": [
    "print(\"The Mean is:\", str(earn1978.mean()))\n",
    "print(\"The Median is:\", str(earn1978.median()))\n",
    "print(earn1978.describe())\n"
   ]
  },
  {
   "cell_type": "markdown",
   "metadata": {},
   "source": [
    "##### Differences in Median Income, and Theory on Why\n"
   ]
  },
  {
   "cell_type": "markdown",
   "metadata": {},
   "source": [
    "##### Outliers"
   ]
  },
  {
   "cell_type": "code",
   "execution_count": null,
   "metadata": {},
   "outputs": [],
   "source": []
  },
  {
   "cell_type": "markdown",
   "metadata": {},
   "source": [
    "##### Outlier Conclusions\n"
   ]
  }
 ],
 "metadata": {
  "kernelspec": {
   "display_name": "Python 3.9.12 ('base')",
   "language": "python",
   "name": "python3"
  },
  "language_info": {
   "codemirror_mode": {
    "name": "ipython",
    "version": 3
   },
   "file_extension": ".py",
   "mimetype": "text/x-python",
   "name": "python",
   "nbconvert_exporter": "python",
   "pygments_lexer": "ipython3",
   "version": "3.9.12"
  },
  "orig_nbformat": 4,
  "vscode": {
   "interpreter": {
    "hash": "1e1be0c565fc6ceb354f856a5b5bd946923d5e000f9c5ccf57138e681b445cb2"
   }
  }
 },
 "nbformat": 4,
 "nbformat_minor": 2
}
